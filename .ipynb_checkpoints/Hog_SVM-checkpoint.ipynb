{
 "cells": [
  {
   "cell_type": "code",
   "execution_count": 144,
   "metadata": {},
   "outputs": [],
   "source": [
    "#importing required libraries\n",
    "from skimage.io import imread,imsave, imshow\n",
    "from skimage.transform import resize\n",
    "from skimage.feature import hog\n",
    "from skimage import exposure\n",
    "import matplotlib.pyplot as plt\n",
    "import glob\n",
    "import numpy as np\n",
    "from skimage import img_as_ubyte\n",
    "from sklearn import svm\n",
    "from sklearn.model_selection import GridSearchCV"
   ]
  },
  {
   "cell_type": "code",
   "execution_count": 164,
   "metadata": {},
   "outputs": [],
   "source": [
    "def create_hog(cls):\n",
    "    imdir = pathtofolder\n",
    "    ext = ['png', 'jpg', 'gif']    # Add image formats here\n",
    "    files = []\n",
    "    [files.extend(glob.glob(imdir + '*.' + e)) for e in ext]\n",
    "    images = [imread(file) for file in files]\n",
    "    for i in range(len(images)): \n",
    "        resized_img = resize(images[i], (128, 64))\n",
    "        fd, hog_img = hog(resized_img, orientations=9, pixels_per_cell=(8, 8), cells_per_block=(2, 2), transform_sqrt=True, block_norm= 'L1', visualize=True)\n",
    "        flat_data_arr.append(hog_img.flatten())\n",
    "        target_arr.append(cls)"
   ]
  },
  {
   "cell_type": "code",
   "execution_count": 165,
   "metadata": {},
   "outputs": [],
   "source": [
    "pathtofolder = 'C:\\\\Users\\\\Arshi\\\\ASSIGNMENT1_CV\\\\INRIA_Dataset_Samples\\\\Train\\\\neg\\\\'\n",
    "create_hog(0)"
   ]
  },
  {
   "cell_type": "code",
   "execution_count": 170,
   "metadata": {},
   "outputs": [],
   "source": [
    "pathtofolder = 'C:\\\\Users\\\\Arshi\\\\ASSIGNMENT1_CV\\\\INRIA_Dataset_Samples\\\\Train\\\\pos\\\\'\n",
    "create_hog(1)"
   ]
  },
  {
   "cell_type": "code",
   "execution_count": 171,
   "metadata": {},
   "outputs": [
    {
     "name": "stdout",
     "output_type": "stream",
     "text": [
      "(3634, 8192)\n",
      "3634\n"
     ]
    }
   ],
   "source": [
    "X_train = np.array(flat_data_arr)\n",
    "Y_train = np.array(target_arr)\n",
    "\n",
    "print(X_train.shape)\n",
    "print(Y_train.size)"
   ]
  },
  {
   "cell_type": "code",
   "execution_count": 174,
   "metadata": {},
   "outputs": [
    {
     "data": {
      "text/plain": [
       "LinearSVC(max_iter=5000)"
      ]
     },
     "execution_count": 174,
     "metadata": {},
     "output_type": "execute_result"
    }
   ],
   "source": [
    "svc = svm.LinearSVC(max_iter =5000)\n",
    "svc.fit (X_train,Y_train)"
   ]
  },
  {
   "cell_type": "code",
   "execution_count": 175,
   "metadata": {},
   "outputs": [],
   "source": [
    "pathtofolder = 'C:\\\\Users\\\\Arshi\\\\ASSIGNMENT1_CV\\\\INRIA_Dataset_Samples\\\\Test\\\\neg\\\\'\n",
    "create_hog(0)"
   ]
  },
  {
   "cell_type": "code",
   "execution_count": 176,
   "metadata": {},
   "outputs": [],
   "source": [
    "pathtofolder = 'C:\\\\Users\\\\Arshi\\\\ASSIGNMENT1_CV\\\\INRIA_Dataset_Samples\\\\Test\\\\pos\\\\'\n",
    "create_hog(1)"
   ]
  },
  {
   "cell_type": "code",
   "execution_count": 178,
   "metadata": {},
   "outputs": [],
   "source": [
    "X_test = np.array(flat_data_arr)\n",
    "Y_test = np.array(target_arr)"
   ]
  },
  {
   "cell_type": "code",
   "execution_count": 180,
   "metadata": {},
   "outputs": [],
   "source": [
    "y_pred=svc.predict(X_test)"
   ]
  },
  {
   "cell_type": "code",
   "execution_count": 181,
   "metadata": {},
   "outputs": [
    {
     "name": "stdout",
     "output_type": "stream",
     "text": [
      "[0 0 0 ... 1 1 1]\n"
     ]
    }
   ],
   "source": [
    "print(y_pred)"
   ]
  },
  {
   "cell_type": "code",
   "execution_count": 182,
   "metadata": {},
   "outputs": [
    {
     "name": "stdout",
     "output_type": "stream",
     "text": [
      "              precision    recall  f1-score   support\n",
      "\n",
      "           0       0.89      0.98      0.93      1671\n",
      "           1       0.99      0.94      0.97      3548\n",
      "\n",
      "    accuracy                           0.96      5219\n",
      "   macro avg       0.94      0.96      0.95      5219\n",
      "weighted avg       0.96      0.96      0.96      5219\n",
      "\n"
     ]
    }
   ],
   "source": [
    "from sklearn.metrics import classification_report\n",
    "print(classification_report(Y_test, y_pred))"
   ]
  },
  {
   "cell_type": "code",
   "execution_count": null,
   "metadata": {},
   "outputs": [],
   "source": []
  }
 ],
 "metadata": {
  "kernelspec": {
   "display_name": "Python 3",
   "language": "python",
   "name": "python3"
  },
  "language_info": {
   "codemirror_mode": {
    "name": "ipython",
    "version": 3
   },
   "file_extension": ".py",
   "mimetype": "text/x-python",
   "name": "python",
   "nbconvert_exporter": "python",
   "pygments_lexer": "ipython3",
   "version": "3.8.3"
  }
 },
 "nbformat": 4,
 "nbformat_minor": 4
}
