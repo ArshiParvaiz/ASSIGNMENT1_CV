{
 "cells": [
  {
   "cell_type": "code",
   "execution_count": 5,
   "metadata": {},
   "outputs": [],
   "source": [
    "#importing required libraries\n",
    "from skimage.io import imread,imsave, imshow\n",
    "from skimage.transform import resize\n",
    "from skimage.feature import hog\n",
    "from skimage import exposure\n",
    "import matplotlib.pyplot as plt\n",
    "import glob\n",
    "import numpy as np\n",
    "from sklearn.metrics import classification_report\n"
   ]
  },
  {
   "cell_type": "code",
   "execution_count": 14,
   "metadata": {},
   "outputs": [],
   "source": [
    "flat_data_arr = []\n",
    "target_arr = []\n",
    "files= []"
   ]
  },
  {
   "cell_type": "code",
   "execution_count": 15,
   "metadata": {},
   "outputs": [],
   "source": [
    "def create_hog(cls , o=9, ppc= 8, cpb =2 ):\n",
    "    imdir = pathtofolder\n",
    "    ext = ['png', 'jpg', 'gif']    # Add image formats here\n",
    "    [files.extend(glob.glob(imdir + '*.' + e)) for e in ext]\n",
    "    images = [imread(file) for file in files]\n",
    "    for i in range(len(images)): \n",
    "        resized_img = resize(images[i], (128, 64))\n",
    "        fd, hog_img = hog(resized_img, orientations=o, pixels_per_cell=(ppc,ppc), cells_per_block=(cpb, cpb), transform_sqrt=True, block_norm= 'L1', visualize=True)\n",
    "        flat_data_arr.append(hog_img.flatten())\n",
    "        target_arr.append(cls)"
   ]
  },
  {
   "cell_type": "code",
   "execution_count": 4,
   "metadata": {},
   "outputs": [],
   "source": [
    "pathtofolder = 'C:\\\\Users\\\\Arshi\\\\ASSIGNMENT1_CV\\\\INRIA_Dataset_Samples\\\\Train\\\\neg\\\\'\n",
    "create_hog(0)\n",
    "pathtofolder = 'C:\\\\Users\\\\Arshi\\\\ASSIGNMENT1_CV\\\\INRIA_Dataset_Samples\\\\Train\\\\pos\\\\'\n",
    "create_hog(1)"
   ]
  },
  {
   "cell_type": "code",
   "execution_count": 6,
   "metadata": {},
   "outputs": [
    {
     "name": "stdout",
     "output_type": "stream",
     "text": [
      "(3634, 8192)\n"
     ]
    }
   ],
   "source": [
    "X_train = np.array(flat_data_arr)\n",
    "Y_train = np.array(target_arr)\n",
    "print(X_train.shape)\n"
   ]
  },
  {
   "cell_type": "code",
   "execution_count": 7,
   "metadata": {},
   "outputs": [],
   "source": [
    "pathtofolder = 'C:\\\\Users\\\\Arshi\\\\ASSIGNMENT1_CV\\\\INRIA_Dataset_Samples\\\\Test\\\\neg\\\\'\n",
    "create_hog(0)\n",
    "pathtofolder = 'C:\\\\Users\\\\Arshi\\\\ASSIGNMENT1_CV\\\\INRIA_Dataset_Samples\\\\Test\\\\pos\\\\'\n",
    "create_hog(1)"
   ]
  },
  {
   "cell_type": "code",
   "execution_count": 8,
   "metadata": {},
   "outputs": [
    {
     "name": "stdout",
     "output_type": "stream",
     "text": [
      "(5219, 8192)\n"
     ]
    }
   ],
   "source": [
    "X_test = np.array(flat_data_arr)\n",
    "Y_test = np.array(target_arr)\n",
    "print(X_test.shape)\n"
   ]
  },
  {
   "cell_type": "code",
   "execution_count": 9,
   "metadata": {},
   "outputs": [
    {
     "name": "stdout",
     "output_type": "stream",
     "text": [
      "              precision    recall  f1-score   support\n",
      "\n",
      "           0       0.95      0.97      0.96      1671\n",
      "           1       0.99      0.98      0.98      3548\n",
      "\n",
      "    accuracy                           0.97      5219\n",
      "   macro avg       0.97      0.97      0.97      5219\n",
      "weighted avg       0.97      0.97      0.97      5219\n",
      "\n"
     ]
    }
   ],
   "source": [
    "from sklearn.ensemble import RandomForestClassifier\n",
    "clf=RandomForestClassifier(n_estimators=100)\n",
    "clf.fit(X_train,Y_train)\n",
    "y_pred=clf.predict(X_test)\n",
    "print(classification_report(Y_test, y_pred))"
   ]
  },
  {
   "cell_type": "code",
   "execution_count": 11,
   "metadata": {},
   "outputs": [
    {
     "data": {
      "text/plain": [
       "['hog_random_forest.joblib']"
      ]
     },
     "execution_count": 11,
     "metadata": {},
     "output_type": "execute_result"
    }
   ],
   "source": [
    "#for saving trained model using joblib\n",
    "from joblib import dump, load\n",
    "dump(clf, 'hog_random_forest.joblib') "
   ]
  },
  {
   "cell_type": "code",
   "execution_count": 16,
   "metadata": {},
   "outputs": [
    {
     "name": "stdout",
     "output_type": "stream",
     "text": [
      "(4852, 8192)\n"
     ]
    }
   ],
   "source": [
    "pathtofolder = 'C:\\\\Users\\\\Arshi\\\\ASSIGNMENT1_CV\\\\INRIA_Dataset_Samples\\\\Train\\\\neg\\\\'\n",
    "create_hog(0 , 9, 16, 4)\n",
    "pathtofolder = 'C:\\\\Users\\\\Arshi\\\\ASSIGNMENT1_CV\\\\INRIA_Dataset_Samples\\\\Train\\\\pos\\\\'\n",
    "create_hog(1 , 9, 16, 4)\n",
    "X_train = np.array(flat_data_arr)\n",
    "Y_train = np.array(target_arr)\n",
    "print(X_train.shape)"
   ]
  },
  {
   "cell_type": "code",
   "execution_count": null,
   "metadata": {},
   "outputs": [],
   "source": [
    "pathtofolder = 'C:\\\\Users\\\\Arshi\\\\ASSIGNMENT1_CV\\\\INRIA_Dataset_Samples\\\\Test\\\\neg\\\\'\n",
    "create_hog(0)\n",
    "pathtofolder = 'C:\\\\Users\\\\Arshi\\\\ASSIGNMENT1_CV\\\\INRIA_Dataset_Samples\\\\Test\\\\pos\\\\'\n",
    "create_hog(1)\n",
    "X_test = np.array(flat_data_arr)\n",
    "Y_test = np.array(target_arr)\n",
    "print(X_test.shape)\n"
   ]
  },
  {
   "cell_type": "code",
   "execution_count": 17,
   "metadata": {},
   "outputs": [
    {
     "name": "stdout",
     "output_type": "stream",
     "text": [
      "              precision    recall  f1-score   support\n",
      "\n",
      "           0       0.33      0.65      0.43      1671\n",
      "           1       0.69      0.36      0.48      3548\n",
      "\n",
      "    accuracy                           0.46      5219\n",
      "   macro avg       0.51      0.51      0.46      5219\n",
      "weighted avg       0.57      0.46      0.46      5219\n",
      "\n"
     ]
    }
   ],
   "source": [
    "from sklearn.ensemble import RandomForestClassifier\n",
    "clf=RandomForestClassifier(n_estimators=100)\n",
    "clf.fit(X_train,Y_train)\n",
    "y_pred=clf.predict(X_test)\n",
    "print(classification_report(Y_test, y_pred))"
   ]
  },
  {
   "cell_type": "code",
   "execution_count": null,
   "metadata": {},
   "outputs": [],
   "source": []
  }
 ],
 "metadata": {
  "kernelspec": {
   "display_name": "Python 3",
   "language": "python",
   "name": "python3"
  },
  "language_info": {
   "codemirror_mode": {
    "name": "ipython",
    "version": 3
   },
   "file_extension": ".py",
   "mimetype": "text/x-python",
   "name": "python",
   "nbconvert_exporter": "python",
   "pygments_lexer": "ipython3",
   "version": "3.8.3"
  }
 },
 "nbformat": 4,
 "nbformat_minor": 4
}
